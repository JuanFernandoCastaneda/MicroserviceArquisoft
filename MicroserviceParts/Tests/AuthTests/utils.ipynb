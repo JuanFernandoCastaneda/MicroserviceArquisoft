{
 "metadata": {
  "language_info": {
   "codemirror_mode": {
    "name": "ipython",
    "version": 3
   },
   "file_extension": ".py",
   "mimetype": "text/x-python",
   "name": "python",
   "nbconvert_exporter": "python",
   "pygments_lexer": "ipython3",
   "version": "3.8.3-final"
  },
  "orig_nbformat": 2,
  "kernelspec": {
   "name": "python3",
   "display_name": "Python 3"
  }
 },
 "nbformat": 4,
 "nbformat_minor": 2,
 "cells": [
  {
   "source": [
    "# Security Utils\n",
    "- Hash\n",
    "- Encryptor\n",
    "- Desencriptor"
   ],
   "cell_type": "markdown",
   "metadata": {}
  },
  {
   "cell_type": "code",
   "execution_count": 3,
   "metadata": {},
   "outputs": [],
   "source": [
    "import hashlib\n",
    "import base64\n",
    "from cryptography.fernet import Fernet,MultiFernet\n",
    "SALT=\"B00kl!c|(2O20_th35alt\"\n",
    "HASHES=10\n",
    "KEY_F1=b'LPVHX_SC0r1uP3TDHr9zeNx_P9Py24WALWbHycRXAwk='\n",
    "KEY_F2=b'rR5TVpiJL4VCRB_AYQGwqxobwFcp4LeJ2hfKuPyBluI='\n",
    "KEY_F3=b'1B3AQ0Tfw27UYGakchGGb7WTfrnvd_mTcoQtkqkyOQU='\n",
    "KEY_F4=b'vI5PorlusWdok6cUbesLBfW-WpK7_Zks3IpkAzrNQVM='"
   ]
  },
  {
   "cell_type": "code",
   "execution_count": 4,
   "metadata": {},
   "outputs": [],
   "source": [
    "#Encryption\n",
    "K1=Fernet(KEY_F1)\n",
    "K2=Fernet(KEY_F2)\n",
    "K3=Fernet(KEY_F3)\n",
    "K4=Fernet(KEY_F4)\n",
    "MF=MultiFernet([K1,K2,K3,K4])"
   ]
  },
  {
   "cell_type": "code",
   "execution_count": 15,
   "metadata": {},
   "outputs": [],
   "source": [
    "def hasher(msg:str)->str:\n",
    "    m=hashlib.sha512()\n",
    "    hashedMsg=(msg+SALT)\n",
    "    for i in range(HASHES):\n",
    "        m.update(hashedMsg.encode('utf-8'))\n",
    "        hashedMsg=m.hexdigest()\n",
    "    return str(hashedMsg)\n",
    "\n",
    "def encryptedMSG(msg:str)->str:\n",
    "    return str(MF.encrypt(msg.encode('utf-8'))).encode('utf-8')\n",
    "\n",
    "def decryptorMSG(msg:str)->str:\n",
    "    return MF.decrypt(eval(msg)).decode()"
   ]
  },
  {
   "cell_type": "code",
   "execution_count": 16,
   "metadata": {},
   "outputs": [
    {
     "output_type": "stream",
     "name": "stdout",
     "text": [
      "Username:  PPP\nhashed Value:  ac024d818c835121e0c97327607e29165b91684f0f85e1b7dd066ee5016c8ff067075d3bef9db35b738eb0cae842153886d2c6184c5ce0433b07ba3ab47e1461\nEncrypted Value:  b\"b'gAAAAABfzAKbtnLHxWeHcEcRDNdvUEVf34yTiHeP9PHF_rYqPao0riQ4XjMjSumA5aAfX05NGRgEhN3V5k4ax5xIBzinnhrPJQ=='\"\nDecripted Value:  PPP\n"
     ]
    }
   ],
   "source": [
    "username=input(\"Place username: \")\n",
    "print(\"Username: \",username)\n",
    "print(\"hashed Value: \",hasher(username))\n",
    "print(\"Encrypted Value: \",encryptedMSG(username))\n",
    "print(\"Decripted Value: \",decryptorMSG(encryptedMSG(username)))"
   ]
  },
  {
   "cell_type": "code",
   "execution_count": 17,
   "metadata": {},
   "outputs": [
    {
     "output_type": "stream",
     "name": "stdout",
     "text": [
      "Password:  PPPP\nhashed Value:  64b5bb846f6227eaa081a678a573ae56444310c5e8fd7b7464b8251df703e41815f3bd3e0f3bb4dc6078f5ae9996805a611aa0877e44ff7509c111e22ce0b040\nEncrypted Value:  b\"b'gAAAAABfzALHi-8_4bruiNRiBKAV3JlaM_iSaZYVf-Ad1YVdoHvKL1BQvs34Oaf3q42lh21XGn_S5MiB8Vdyx7J1FczXqFF-bg=='\"\nDecripted Value:  PPPP\n"
     ]
    }
   ],
   "source": [
    "password=input(\"Place password: \")\n",
    "print(\"Password: \",password)\n",
    "print(\"hashed Value: \",hasher(password))\n",
    "print(\"Encrypted Value: \",encryptedMSG(password))\n",
    "print(\"Decripted Value: \",decryptorMSG(encryptedMSG(password)))"
   ]
  },
  {
   "cell_type": "code",
   "execution_count": 18,
   "metadata": {},
   "outputs": [
    {
     "output_type": "stream",
     "name": "stdout",
     "text": [
      "Rol:  Prueba\nhashed Value:  a315c94229f2e200b9269e3ab80ca9c554b9886cb9159a40c93cd6e49a5c0f6c0aae91efcae99aee26fc4665fc4e3700dcc476368fdc4c4ffd4a39e17df37834\nEncrypted Value:  b\"b'gAAAAABfzAL_TR-7czf_CgUX9mu-F_PIWg35GXP6F8u8F8g7FysRPWfwqayDsPyIbfV5p9W5g8dPib4upk1o7lnD7djVX7FzNw=='\"\nDecripted Value:  Prueba\n"
     ]
    }
   ],
   "source": [
    "rol=input(\"Place rol: \")\n",
    "print(\"Rol: \",rol)\n",
    "print(\"hashed Value: \",hasher(rol))\n",
    "print(\"Encrypted Value: \",encryptedMSG(rol))\n",
    "print(\"Decripted Value: \",decryptorMSG(encryptedMSG(rol)))"
   ]
  },
  {
   "cell_type": "code",
   "execution_count": null,
   "metadata": {},
   "outputs": [],
   "source": []
  }
 ]
}