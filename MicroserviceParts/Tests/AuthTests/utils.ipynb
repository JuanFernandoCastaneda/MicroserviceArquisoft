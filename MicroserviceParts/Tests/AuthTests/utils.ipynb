{
 "metadata": {
  "language_info": {
   "codemirror_mode": {
    "name": "ipython",
    "version": 3
   },
   "file_extension": ".py",
   "mimetype": "text/x-python",
   "name": "python",
   "nbconvert_exporter": "python",
   "pygments_lexer": "ipython3",
   "version": "3.8.3-final"
  },
  "orig_nbformat": 2,
  "kernelspec": {
   "name": "python3",
   "display_name": "Python 3"
  }
 },
 "nbformat": 4,
 "nbformat_minor": 2,
 "cells": [
  {
   "source": [
    "# Security Utils\n",
    "- Hash\n",
    "- Encryptor\n",
    "- Decriptor"
   ],
   "cell_type": "markdown",
   "metadata": {}
  },
  {
   "cell_type": "code",
   "execution_count": 96,
   "metadata": {},
   "outputs": [
    {
     "output_type": "stream",
     "name": "stdout",
     "text": [
      "b'LPVHX_SC0r1uP3TDHr9zeNx_P9Py24WALWbHycRXAwk='\nb'rR5TVpiJL4VCRB_AYQGwqxobwFcp4LeJ2hfKuPyBluI='\nb'1B3AQ0Tfw27UYGakchGGb7WTfrnvd_mTcoQtkqkyOQU='\nb'vI5PorlusWdok6cUbesLBfW-WpK7_Zks3IpkAzrNQVM='\n"
     ]
    }
   ],
   "source": [
    "import hashlib\n",
    "import base64\n",
    "from cryptography.fernet import Fernet,MultiFernet\n",
    "SALT=\"B00kl!c|(2O20_th35alt\"\n",
    "HASHES=10\n",
    "KEY_F1=Fernet.generate_key()\n",
    "KEY_F2=Fernet.generate_key()\n",
    "KEY_F3=Fernet.generate_key()\n",
    "KEY_F4=Fernet.generate_key()\n",
    "print(KEY_F1)\n",
    "print(KEY_F2)\n",
    "print(KEY_F3)\n",
    "print(KEY_F4)"
   ]
  },
  {
   "cell_type": "code",
   "execution_count": 98,
   "metadata": {},
   "outputs": [],
   "source": [
    "#hash\n",
    "m=hashlib.sha512()\n",
    "#Encryption\n",
    "K1=Fernet(KEY_F1)\n",
    "K2=Fernet(KEY_F2)\n",
    "K3=Fernet(KEY_F3)\n",
    "K4=Fernet(KEY_F4)\n",
    "MF=MultiFernet([K1,K2,K3,K4])"
   ]
  },
  {
   "cell_type": "code",
   "execution_count": 103,
   "metadata": {},
   "outputs": [],
   "source": [
    "def hasher(msg:str)->str:\n",
    "    hashedMsg=msg\n",
    "    for i in range(HASHES):\n",
    "        m.update((str(hashedMsg)+SALT).encode())\n",
    "        hashedMsg=m.digest()\n",
    "    return str(hashedMsg)\n",
    "\n",
    "def encryptedMSG(msg:str)->bytes:\n",
    "    return MF.encrypt(msg.encode())\n",
    "\n",
    "def decryptorMSG(msg:bytes)->str:\n",
    "    return MF.decrypt(msg).decode()"
   ]
  },
  {
   "cell_type": "code",
   "execution_count": 104,
   "metadata": {},
   "outputs": [
    {
     "output_type": "stream",
     "name": "stdout",
     "text": [
      "Verdadero:  Nicolas\nhashed Value:  b'\\xe52\\xf5O\\xab\\x81\\xce\\xf9\\xbf\\xca\\x11\\x94\\xad\\xc5\\xa8\\x0e41\\xc1\\x1b\\xe8\\xd8\\x89\\x05QB\\xac\\x86\\xf2\\x7fp\\xb4A\\x86z;\\x04\\xff\\xe1\\xa3\\xf6`\\x80\\xe6\\xf6\\xe1\\xf0j\\xdb@\\xdawC\\x08m\\xcf\\x93\\xbf4\\xc4C_\\x82\\x86'\nEncrypted Value:  b'gAAAAABfymlOcFu8NXzeQBu7f7fLX3RW3MZ-Sy6zbBEB2ajNnBuN7Q9BgbF0I32ws6ODCwqrLE_weIYfKoUv5JQHLH4GegcZ3g=='\nDecripted Value:  Nicolas\n"
     ]
    }
   ],
   "source": [
    "username=input(\"Place username: \")\n",
    "print(\"Verdadero: \",username)\n",
    "print(\"hashed Value: \",hasher(username))\n",
    "print(\"Encrypted Value: \",encryptedMSG(username))\n",
    "print(\"Decripted Value: \",decryptorMSG(encryptedMSG(username)))"
   ]
  },
  {
   "cell_type": "code",
   "execution_count": 101,
   "metadata": {},
   "outputs": [
    {
     "output_type": "stream",
     "name": "stdout",
     "text": [
      "Verdadero:  Nic11235813\nhashed Value:  b')\\x15\\xf7/\\x16\\x02B\\xfd\\xe3\\xc6\\xed\\x08Bt\\xa9~\\x01\\x0e\\xbc\\xe3 \\x92\\xe6\\x83\\x0b8\\xd7Y\\x8b\\x15c\\x19}\\x9c\\xb1\\xde\\x05\\x1e\\xc7\\xc4\\xbf\\x17\\x17$\\xceHW\\xe6\\xf2\\x18\\xcb\\x0b=\\xfe\\xbb\\x1d\\x17\\x9e/h\\xe5\\xd3\\xf4D'\nEncrypted Value:  b'gAAAAABfyPyDXddSKLSd-kF3N6Pu_71uztMwAio7ftgPlA0q_YnB_LRAfS_zdaHGmmBurUxq9NRE_uRQn1vt4zctTgUpBK-_CA=='\nDecripted Value:  Nic11235813\n"
     ]
    }
   ],
   "source": [
    "password=input(\"Place password: \")\n",
    "print(\"Verdadero: \",password)\n",
    "print(\"hashed Value: \",hasher(password))\n",
    "print(\"Encrypted Value: \",encryptedMSG(password))\n",
    "print(\"Decripted Value: \",decryptorMSG(encryptedMSG(password)))"
   ]
  },
  {
   "cell_type": "code",
   "execution_count": 102,
   "metadata": {},
   "outputs": [
    {
     "output_type": "stream",
     "name": "stdout",
     "text": [
      "Verdadero:  Admin\nhashed Value:  b'\\x04\\x8eA\\x82\\xa8q\\xa0\\xbc\\x94\"\\xb5\\x9e\\xbe3\\x83\\x90\\xd2\\xd4\\xa0#\\x82\\x18y\\xab\\'\\xa3\\xcc\\xe5\\x9a<\\x08n]/\\x92\\x8cc\\x00\\x9cS\\x85L\\x01\\xdc\\x82/Y\\xd2\\xe7\\xcf\\x01\\xa7;\\x81K\\r\\x17\\xe5]\\x94JEK\\xbf'\nEncrypted Value:  b'gAAAAABfyPyP35FFPA-U4rMQBDgKfZdTA1AmDdWOsq7IQ9LWVeDm9r_aplLTqHgbYU6OiLjwLLXoP41ok4oO_ffdBc6svU0JzQ=='\nDecripted Value:  Admin\n"
     ]
    }
   ],
   "source": [
    "rol=input(\"Place rol: \")\n",
    "print(\"Verdadero: \",rol)\n",
    "print(\"hashed Value: \",hasher(rol))\n",
    "print(\"Encrypted Value: \",encryptedMSG(rol))\n",
    "print(\"Decripted Value: \",decryptorMSG(encryptedMSG(rol)))"
   ]
  }
 ]
}